{
 "cells": [
  {
   "cell_type": "code",
   "execution_count": null,
   "metadata": {},
   "outputs": [],
   "source": [
    "2 + 2"
   ]
  },
  {
   "cell_type": "markdown",
   "id": "83b307f1",
   "metadata": {},
   "source": [
    "This is my simple file\n",
    "$\\int f(x)dx$"
   ]
  },
  {
   "cell_type": "code",
   "execution_count": null,
   "id": "a1eb8d64",
   "metadata": {},
   "outputs": [],
   "source": []
  }
 ],
 "metadata": {
  "language_info": {
   "name": "python"
  }
 },
 "nbformat": 4,
 "nbformat_minor": 5
}
